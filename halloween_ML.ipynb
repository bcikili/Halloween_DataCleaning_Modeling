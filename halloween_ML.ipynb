{
 "cells": [
  {
   "cell_type": "code",
   "execution_count": 1,
   "metadata": {},
   "outputs": [],
   "source": [
    "import pandas as pd\n",
    "import numpy as np\n",
    "import matplotlib.pyplot as plt\n",
    "from pylab import *\n",
    "import seaborn as sns\n",
    "%matplotlib inline\n",
    "import  statsmodels.api as sm\n",
    "import statsmodels.stats.api as sms\n",
    "from scipy.stats import boxcox\n",
    "import warnings\n",
    "warnings.filterwarnings('ignore')"
   ]
  },
  {
   "cell_type": "code",
   "execution_count": 2,
   "metadata": {},
   "outputs": [
    {
     "data": {
      "text/html": [
       "<div>\n",
       "<style scoped>\n",
       "    .dataframe tbody tr th:only-of-type {\n",
       "        vertical-align: middle;\n",
       "    }\n",
       "\n",
       "    .dataframe tbody tr th {\n",
       "        vertical-align: top;\n",
       "    }\n",
       "\n",
       "    .dataframe thead th {\n",
       "        text-align: right;\n",
       "    }\n",
       "</style>\n",
       "<table border=\"1\" class=\"dataframe\">\n",
       "  <thead>\n",
       "    <tr style=\"text-align: right;\">\n",
       "      <th></th>\n",
       "      <th>title</th>\n",
       "      <th>release_country</th>\n",
       "      <th>movie_rating</th>\n",
       "      <th>review_rating</th>\n",
       "      <th>plot</th>\n",
       "      <th>locations</th>\n",
       "      <th>release_date</th>\n",
       "      <th>release_year</th>\n",
       "      <th>runtime_in_min</th>\n",
       "      <th>main_language</th>\n",
       "      <th>multi_language</th>\n",
       "      <th>main_genre</th>\n",
       "      <th>multi_genre</th>\n",
       "    </tr>\n",
       "  </thead>\n",
       "  <tbody>\n",
       "    <tr>\n",
       "      <th>0</th>\n",
       "      <td>Gut (2012)</td>\n",
       "      <td>USA</td>\n",
       "      <td>NaN</td>\n",
       "      <td>3.9</td>\n",
       "      <td>Directed by Elias. With Jason Vail, Nicholas W...</td>\n",
       "      <td>New York, USA</td>\n",
       "      <td>2012-10-26</td>\n",
       "      <td>2012</td>\n",
       "      <td>91.0</td>\n",
       "      <td>English</td>\n",
       "      <td>False</td>\n",
       "      <td>Drama</td>\n",
       "      <td>True</td>\n",
       "    </tr>\n",
       "    <tr>\n",
       "      <th>1</th>\n",
       "      <td>The Haunting of Mia Moss (2017)</td>\n",
       "      <td>USA</td>\n",
       "      <td>NaN</td>\n",
       "      <td>NaN</td>\n",
       "      <td>Directed by Jake Zelch. With Nicola Fiore, Bri...</td>\n",
       "      <td>NaN</td>\n",
       "      <td>2017-01-13</td>\n",
       "      <td>2017</td>\n",
       "      <td>NaN</td>\n",
       "      <td>English</td>\n",
       "      <td>False</td>\n",
       "      <td>Horror</td>\n",
       "      <td>False</td>\n",
       "    </tr>\n",
       "    <tr>\n",
       "      <th>2</th>\n",
       "      <td>Sleepwalking (2017)</td>\n",
       "      <td>Canada</td>\n",
       "      <td>NaN</td>\n",
       "      <td>NaN</td>\n",
       "      <td>Directed by David Briggs. With Alysia Topol, A...</td>\n",
       "      <td>Sudbury, Ontario, Canada</td>\n",
       "      <td>2017-10-21</td>\n",
       "      <td>2017</td>\n",
       "      <td>NaN</td>\n",
       "      <td>English</td>\n",
       "      <td>False</td>\n",
       "      <td>Horror</td>\n",
       "      <td>False</td>\n",
       "    </tr>\n",
       "    <tr>\n",
       "      <th>3</th>\n",
       "      <td>Treasure Chest of Horrors II (2013)</td>\n",
       "      <td>USA</td>\n",
       "      <td>NOT RATED</td>\n",
       "      <td>3.7</td>\n",
       "      <td>Directed by M. Kelley, Shawn C. Phillips, Alex...</td>\n",
       "      <td>Baltimore, Maryland, USA</td>\n",
       "      <td>2013-04-23</td>\n",
       "      <td>2013</td>\n",
       "      <td>82.0</td>\n",
       "      <td>English</td>\n",
       "      <td>False</td>\n",
       "      <td>Comedy</td>\n",
       "      <td>True</td>\n",
       "    </tr>\n",
       "    <tr>\n",
       "      <th>4</th>\n",
       "      <td>Infidus (2015)</td>\n",
       "      <td>USA</td>\n",
       "      <td>NaN</td>\n",
       "      <td>5.8</td>\n",
       "      <td>Directed by Giulio De Santi. With Bonini Mino,...</td>\n",
       "      <td>NaN</td>\n",
       "      <td>2015-04-10</td>\n",
       "      <td>2015</td>\n",
       "      <td>80.0</td>\n",
       "      <td>Italian</td>\n",
       "      <td>False</td>\n",
       "      <td>Crime</td>\n",
       "      <td>True</td>\n",
       "    </tr>\n",
       "    <tr>\n",
       "      <th>5</th>\n",
       "      <td>In Extremis (2017)</td>\n",
       "      <td>UK</td>\n",
       "      <td>NaN</td>\n",
       "      <td>NaN</td>\n",
       "      <td>Directed by Steve Stone. With David O'Hara, Is...</td>\n",
       "      <td>NaN</td>\n",
       "      <td>NaN</td>\n",
       "      <td>2017</td>\n",
       "      <td>93.0</td>\n",
       "      <td>English</td>\n",
       "      <td>False</td>\n",
       "      <td>Horror</td>\n",
       "      <td>True</td>\n",
       "    </tr>\n",
       "    <tr>\n",
       "      <th>6</th>\n",
       "      <td>Ghostlight (2013)</td>\n",
       "      <td>USA</td>\n",
       "      <td>NOT RATED</td>\n",
       "      <td>5.1</td>\n",
       "      <td>Directed by Jeff Ferrell. With Eden Campbell, ...</td>\n",
       "      <td>NaN</td>\n",
       "      <td>2014-06-03</td>\n",
       "      <td>2014</td>\n",
       "      <td>90.0</td>\n",
       "      <td>English</td>\n",
       "      <td>False</td>\n",
       "      <td>Drama</td>\n",
       "      <td>True</td>\n",
       "    </tr>\n",
       "    <tr>\n",
       "      <th>7</th>\n",
       "      <td>Parasyte: Part 2 (2015)</td>\n",
       "      <td>Japan</td>\n",
       "      <td>NaN</td>\n",
       "      <td>6.5</td>\n",
       "      <td>Directed by Takashi Yamazaki. With ShÃ´ta Some...</td>\n",
       "      <td>Tokyo, Japan</td>\n",
       "      <td>2015-04-25</td>\n",
       "      <td>2015</td>\n",
       "      <td>117.0</td>\n",
       "      <td>Japanese</td>\n",
       "      <td>False</td>\n",
       "      <td>Action</td>\n",
       "      <td>True</td>\n",
       "    </tr>\n",
       "    <tr>\n",
       "      <th>8</th>\n",
       "      <td>Stranger in the House (2015)</td>\n",
       "      <td>Spain</td>\n",
       "      <td>PG-13</td>\n",
       "      <td>4.6</td>\n",
       "      <td>Directed by Devon Gummersall. With Annabella S...</td>\n",
       "      <td>Warwick, New York, USA</td>\n",
       "      <td>2017-05-28</td>\n",
       "      <td>2017</td>\n",
       "      <td>90.0</td>\n",
       "      <td>English</td>\n",
       "      <td>False</td>\n",
       "      <td>Horror</td>\n",
       "      <td>True</td>\n",
       "    </tr>\n",
       "    <tr>\n",
       "      <th>9</th>\n",
       "      <td>Tutak Tutak Tutiya (2016)</td>\n",
       "      <td>India</td>\n",
       "      <td>NaN</td>\n",
       "      <td>5.4</td>\n",
       "      <td>Directed by Vijay. With Tamannaah Bhatia, Kari...</td>\n",
       "      <td>NaN</td>\n",
       "      <td>2016-10-07</td>\n",
       "      <td>2016</td>\n",
       "      <td>138.0</td>\n",
       "      <td>Hindi</td>\n",
       "      <td>False</td>\n",
       "      <td>Comedy</td>\n",
       "      <td>True</td>\n",
       "    </tr>\n",
       "  </tbody>\n",
       "</table>\n",
       "</div>"
      ],
      "text/plain": [
       "                                 title release_country movie_rating  \\\n",
       "0                           Gut (2012)             USA          NaN   \n",
       "1      The Haunting of Mia Moss (2017)             USA          NaN   \n",
       "2                  Sleepwalking (2017)          Canada          NaN   \n",
       "3  Treasure Chest of Horrors II (2013)             USA    NOT RATED   \n",
       "4                       Infidus (2015)             USA          NaN   \n",
       "5                   In Extremis (2017)              UK          NaN   \n",
       "6                    Ghostlight (2013)             USA    NOT RATED   \n",
       "7              Parasyte: Part 2 (2015)           Japan          NaN   \n",
       "8         Stranger in the House (2015)           Spain        PG-13   \n",
       "9            Tutak Tutak Tutiya (2016)           India          NaN   \n",
       "\n",
       "   review_rating                                               plot  \\\n",
       "0            3.9  Directed by Elias. With Jason Vail, Nicholas W...   \n",
       "1            NaN  Directed by Jake Zelch. With Nicola Fiore, Bri...   \n",
       "2            NaN  Directed by David Briggs. With Alysia Topol, A...   \n",
       "3            3.7  Directed by M. Kelley, Shawn C. Phillips, Alex...   \n",
       "4            5.8  Directed by Giulio De Santi. With Bonini Mino,...   \n",
       "5            NaN  Directed by Steve Stone. With David O'Hara, Is...   \n",
       "6            5.1  Directed by Jeff Ferrell. With Eden Campbell, ...   \n",
       "7            6.5  Directed by Takashi Yamazaki. With ShÃ´ta Some...   \n",
       "8            4.6  Directed by Devon Gummersall. With Annabella S...   \n",
       "9            5.4  Directed by Vijay. With Tamannaah Bhatia, Kari...   \n",
       "\n",
       "                  locations release_date  release_year  runtime_in_min  \\\n",
       "0             New York, USA   2012-10-26          2012            91.0   \n",
       "1                       NaN   2017-01-13          2017             NaN   \n",
       "2  Sudbury, Ontario, Canada   2017-10-21          2017             NaN   \n",
       "3  Baltimore, Maryland, USA   2013-04-23          2013            82.0   \n",
       "4                       NaN   2015-04-10          2015            80.0   \n",
       "5                       NaN          NaN          2017            93.0   \n",
       "6                       NaN   2014-06-03          2014            90.0   \n",
       "7              Tokyo, Japan   2015-04-25          2015           117.0   \n",
       "8    Warwick, New York, USA   2017-05-28          2017            90.0   \n",
       "9                       NaN   2016-10-07          2016           138.0   \n",
       "\n",
       "  main_language  multi_language main_genre  multi_genre  \n",
       "0       English           False      Drama         True  \n",
       "1       English           False     Horror        False  \n",
       "2       English           False     Horror        False  \n",
       "3       English           False     Comedy         True  \n",
       "4       Italian           False      Crime         True  \n",
       "5       English           False     Horror         True  \n",
       "6       English           False      Drama         True  \n",
       "7      Japanese           False     Action         True  \n",
       "8       English           False     Horror         True  \n",
       "9         Hindi           False     Comedy         True  "
      ]
     },
     "execution_count": 2,
     "metadata": {},
     "output_type": "execute_result"
    }
   ],
   "source": [
    "halo = pd.read_csv('horror_movies_cleaned_with_genre.csv')\n",
    "halo.shape\n",
    "halo.head(10)"
   ]
  },
  {
   "cell_type": "code",
   "execution_count": 3,
   "metadata": {},
   "outputs": [
    {
     "data": {
      "text/plain": [
       "<matplotlib.axes._subplots.AxesSubplot at 0x1ce3de02d08>"
      ]
     },
     "execution_count": 3,
     "metadata": {},
     "output_type": "execute_result"
    },
    {
     "data": {
      "image/png": "[encoded data removed]",
      "text/plain": [
       "<Figure size 432x288 with 1 Axes>"
      ]
     },
     "metadata": {
      "needs_background": "light"
     },
     "output_type": "display_data"
    }
   ],
   "source": [
    "halo['movie_rating'].value_counts().plot(kind = 'bar')"
   ]
  },
  {
   "cell_type": "code",
   "execution_count": 4,
   "metadata": {
    "scrolled": true
   },
   "outputs": [
    {
     "data": {
      "text/html": [
       "<div>\n",
       "<style scoped>\n",
       "    .dataframe tbody tr th:only-of-type {\n",
       "        vertical-align: middle;\n",
       "    }\n",
       "\n",
       "    .dataframe tbody tr th {\n",
       "        vertical-align: top;\n",
       "    }\n",
       "\n",
       "    .dataframe thead th {\n",
       "        text-align: right;\n",
       "    }\n",
       "</style>\n",
       "<table border=\"1\" class=\"dataframe\">\n",
       "  <thead>\n",
       "    <tr style=\"text-align: right;\">\n",
       "      <th></th>\n",
       "      <th>title</th>\n",
       "      <th>release_country</th>\n",
       "      <th>movie_rating</th>\n",
       "      <th>review_rating</th>\n",
       "      <th>plot</th>\n",
       "      <th>locations</th>\n",
       "      <th>release_date</th>\n",
       "      <th>release_year</th>\n",
       "      <th>runtime_in_min</th>\n",
       "      <th>main_language</th>\n",
       "      <th>multi_language</th>\n",
       "      <th>main_genre</th>\n",
       "      <th>multi_genre</th>\n",
       "    </tr>\n",
       "  </thead>\n",
       "  <tbody>\n",
       "    <tr>\n",
       "      <th>0</th>\n",
       "      <td>Gut (2012)</td>\n",
       "      <td>USA</td>\n",
       "      <td>NaN</td>\n",
       "      <td>3.9</td>\n",
       "      <td>Directed by Elias. With Jason Vail, Nicholas W...</td>\n",
       "      <td>New York, USA</td>\n",
       "      <td>2012-10-26</td>\n",
       "      <td>2012</td>\n",
       "      <td>91.0</td>\n",
       "      <td>English</td>\n",
       "      <td>False</td>\n",
       "      <td>Drama</td>\n",
       "      <td>True</td>\n",
       "    </tr>\n",
       "    <tr>\n",
       "      <th>1</th>\n",
       "      <td>The Haunting of Mia Moss (2017)</td>\n",
       "      <td>USA</td>\n",
       "      <td>NaN</td>\n",
       "      <td>NaN</td>\n",
       "      <td>Directed by Jake Zelch. With Nicola Fiore, Bri...</td>\n",
       "      <td>NaN</td>\n",
       "      <td>2017-01-13</td>\n",
       "      <td>2017</td>\n",
       "      <td>NaN</td>\n",
       "      <td>English</td>\n",
       "      <td>False</td>\n",
       "      <td>Horror</td>\n",
       "      <td>False</td>\n",
       "    </tr>\n",
       "    <tr>\n",
       "      <th>2</th>\n",
       "      <td>Sleepwalking (2017)</td>\n",
       "      <td>Canada</td>\n",
       "      <td>NaN</td>\n",
       "      <td>NaN</td>\n",
       "      <td>Directed by David Briggs. With Alysia Topol, A...</td>\n",
       "      <td>Sudbury, Ontario, Canada</td>\n",
       "      <td>2017-10-21</td>\n",
       "      <td>2017</td>\n",
       "      <td>NaN</td>\n",
       "      <td>English</td>\n",
       "      <td>False</td>\n",
       "      <td>Horror</td>\n",
       "      <td>False</td>\n",
       "    </tr>\n",
       "    <tr>\n",
       "      <th>3</th>\n",
       "      <td>Treasure Chest of Horrors II (2013)</td>\n",
       "      <td>USA</td>\n",
       "      <td>NOT RATED</td>\n",
       "      <td>3.7</td>\n",
       "      <td>Directed by M. Kelley, Shawn C. Phillips, Alex...</td>\n",
       "      <td>Baltimore, Maryland, USA</td>\n",
       "      <td>2013-04-23</td>\n",
       "      <td>2013</td>\n",
       "      <td>82.0</td>\n",
       "      <td>English</td>\n",
       "      <td>False</td>\n",
       "      <td>Comedy</td>\n",
       "      <td>True</td>\n",
       "    </tr>\n",
       "    <tr>\n",
       "      <th>4</th>\n",
       "      <td>Infidus (2015)</td>\n",
       "      <td>USA</td>\n",
       "      <td>NaN</td>\n",
       "      <td>5.8</td>\n",
       "      <td>Directed by Giulio De Santi. With Bonini Mino,...</td>\n",
       "      <td>NaN</td>\n",
       "      <td>2015-04-10</td>\n",
       "      <td>2015</td>\n",
       "      <td>80.0</td>\n",
       "      <td>Italian</td>\n",
       "      <td>False</td>\n",
       "      <td>Crime</td>\n",
       "      <td>True</td>\n",
       "    </tr>\n",
       "  </tbody>\n",
       "</table>\n",
       "</div>"
      ],
      "text/plain": [
       "                                 title release_country movie_rating  \\\n",
       "0                           Gut (2012)             USA          NaN   \n",
       "1      The Haunting of Mia Moss (2017)             USA          NaN   \n",
       "2                  Sleepwalking (2017)          Canada          NaN   \n",
       "3  Treasure Chest of Horrors II (2013)             USA    NOT RATED   \n",
       "4                       Infidus (2015)             USA          NaN   \n",
       "\n",
       "   review_rating                                               plot  \\\n",
       "0            3.9  Directed by Elias. With Jason Vail, Nicholas W...   \n",
       "1            NaN  Directed by Jake Zelch. With Nicola Fiore, Bri...   \n",
       "2            NaN  Directed by David Briggs. With Alysia Topol, A...   \n",
       "3            3.7  Directed by M. Kelley, Shawn C. Phillips, Alex...   \n",
       "4            5.8  Directed by Giulio De Santi. With Bonini Mino,...   \n",
       "\n",
       "                  locations release_date  release_year  runtime_in_min  \\\n",
       "0             New York, USA   2012-10-26          2012            91.0   \n",
       "1                       NaN   2017-01-13          2017             NaN   \n",
       "2  Sudbury, Ontario, Canada   2017-10-21          2017             NaN   \n",
       "3  Baltimore, Maryland, USA   2013-04-23          2013            82.0   \n",
       "4                       NaN   2015-04-10          2015            80.0   \n",
       "\n",
       "  main_language  multi_language main_genre  multi_genre  \n",
       "0       English           False      Drama         True  \n",
       "1       English           False     Horror        False  \n",
       "2       English           False     Horror        False  \n",
       "3       English           False     Comedy         True  \n",
       "4       Italian           False      Crime         True  "
      ]
     },
     "execution_count": 4,
     "metadata": {},
     "output_type": "execute_result"
    }
   ],
   "source": [
    "halo.head(5)"
   ]
  },
  {
   "cell_type": "code",
   "execution_count": 5,
   "metadata": {},
   "outputs": [
    {
     "name": "stdout",
     "output_type": "stream",
     "text": [
      "['title', 'release_country', 'movie_rating', 'review_rating', 'plot', 'locations', 'release_date', 'release_year', 'runtime_in_min', 'main_language', 'multi_language', 'main_genre', 'multi_genre', 'title', 'release_country', 'review_rating', 'plot', 'locations', 'release_date', 'release_year', 'runtime_in_min', 'multi_language_True', 'main_genre_ Adventure', 'main_genre_ Animation', 'main_genre_ Biography', 'main_genre_ Comedy', 'main_genre_ Crime', 'main_genre_ Drama', 'main_genre_ Family', 'main_genre_ Fantasy', 'main_genre_ History', 'main_genre_ Horror', 'multi_genre_True', 'main_language_Albanian', 'main_language_Arabic', 'main_language_Basque', 'main_language_Bengali', 'main_language_Bulgarian', 'main_language_Cantonese', 'main_language_Catalan', 'main_language_Chinese', 'main_language_Czech', 'main_language_Danish', 'main_language_Divehi', 'main_language_Dutch', 'main_language_English', 'main_language_Filipino', 'main_language_Finnish', 'main_language_Flemish', 'main_language_French', 'main_language_German', 'main_language_Greek', 'main_language_Greenlandic', 'main_language_Hebrew', 'main_language_Hindi', 'main_language_Hungarian', 'main_language_Icelandic', 'main_language_Indonesian', 'main_language_Italian', 'main_language_Japanese', 'main_language_Kannada', 'main_language_Korean', 'main_language_Lao', 'main_language_Latvian', 'main_language_Malay', 'main_language_Malayalam', 'main_language_Mandarin', 'main_language_Marathi', 'main_language_None', 'main_language_Norwegian', 'main_language_Persian', 'main_language_Polish', 'main_language_Portuguese', 'main_language_Romanian', 'main_language_Russian', 'main_language_Serbian', 'main_language_Sinhalese', 'main_language_Slovak', 'main_language_Slovenian', 'main_language_Spanish', 'main_language_Swedish', 'main_language_Tamil', 'main_language_Telugu', 'main_language_Thai', 'main_language_Turkish', 'main_language_Urdu', 'main_language_Vietnamese', 'movie_rating_NC-17', 'movie_rating_NOT RATED', 'movie_rating_PG', 'movie_rating_PG-13', 'movie_rating_R', 'movie_rating_TV-14', 'movie_rating_TV-MA', 'movie_rating_TV-PG', 'movie_rating_X']\n"
     ]
    }
   ],
   "source": [
    "#Created dummy code for necessary columns, generally for dumming coding variable level minus 1 number of columns we create, drop_first function helps us to do it automatically. \n",
    "dummies = pd.get_dummies(halo,columns = ['multi_language','main_genre', 'multi_genre', 'main_language', 'movie_rating' ], drop_first = True)\n",
    "halo5 = pd.concat([halo, dummies], axis = 1)\n",
    "print(list(halo5.columns))"
   ]
  },
  {
   "cell_type": "code",
   "execution_count": 6,
   "metadata": {},
   "outputs": [],
   "source": [
    "from dateparser import parse\n",
    "import dateparser\n",
    "import datetime\n"
   ]
  },
  {
   "cell_type": "code",
   "execution_count": 7,
   "metadata": {},
   "outputs": [
    {
     "data": {
      "text/plain": [
       "0    False\n",
       "1    False\n",
       "2    False\n",
       "3    False\n",
       "4    False\n",
       "Name: multi_language, dtype: bool"
      ]
     },
     "execution_count": 7,
     "metadata": {},
     "output_type": "execute_result"
    }
   ],
   "source": [
    "halo5['multi_language'].head()"
   ]
  },
  {
   "cell_type": "code",
   "execution_count": 8,
   "metadata": {},
   "outputs": [],
   "source": [
    "day_of_month =  halo5['release_year'].astype(int)"
   ]
  },
  {
   "cell_type": "code",
   "execution_count": 9,
   "metadata": {},
   "outputs": [
    {
     "name": "stdout",
     "output_type": "stream",
     "text": [
      "['title', 'release_country', 'movie_rating', 'review_rating', 'plot', 'locations', 'release_date', 'release_year', 'runtime_in_min', 'main_language', 'multi_language', 'main_genre', 'multi_genre', 'title', 'release_country', 'review_rating', 'plot', 'locations', 'release_date', 'release_year', 'runtime_in_min', 'multi_language_True', 'main_genre_ Adventure', 'main_genre_ Animation', 'main_genre_ Biography', 'main_genre_ Comedy', 'main_genre_ Crime', 'main_genre_ Drama', 'main_genre_ Family', 'main_genre_ Fantasy', 'main_genre_ History', 'main_genre_ Horror', 'multi_genre_True', 'main_language_Albanian', 'main_language_Arabic', 'main_language_Basque', 'main_language_Bengali', 'main_language_Bulgarian', 'main_language_Cantonese', 'main_language_Catalan', 'main_language_Chinese', 'main_language_Czech', 'main_language_Danish', 'main_language_Divehi', 'main_language_Dutch', 'main_language_English', 'main_language_Filipino', 'main_language_Finnish', 'main_language_Flemish', 'main_language_French', 'main_language_German', 'main_language_Greek', 'main_language_Greenlandic', 'main_language_Hebrew', 'main_language_Hindi', 'main_language_Hungarian', 'main_language_Icelandic', 'main_language_Indonesian', 'main_language_Italian', 'main_language_Japanese', 'main_language_Kannada', 'main_language_Korean', 'main_language_Lao', 'main_language_Latvian', 'main_language_Malay', 'main_language_Malayalam', 'main_language_Mandarin', 'main_language_Marathi', 'main_language_None', 'main_language_Norwegian', 'main_language_Persian', 'main_language_Polish', 'main_language_Portuguese', 'main_language_Romanian', 'main_language_Russian', 'main_language_Serbian', 'main_language_Sinhalese', 'main_language_Slovak', 'main_language_Slovenian', 'main_language_Spanish', 'main_language_Swedish', 'main_language_Tamil', 'main_language_Telugu', 'main_language_Thai', 'main_language_Turkish', 'main_language_Urdu', 'main_language_Vietnamese', 'movie_rating_NC-17', 'movie_rating_NOT RATED', 'movie_rating_PG', 'movie_rating_PG-13', 'movie_rating_R', 'movie_rating_TV-14', 'movie_rating_TV-MA', 'movie_rating_TV-PG', 'movie_rating_X', 'release_month', 'release_day']\n"
     ]
    }
   ],
   "source": [
    "halo_date = halo['release_date']. str.split('-', expand = True).rename(columns = lambda x: \"Date\"+str(x+1))\n",
    "halo_date = halo_date.drop(['Date1'], axis = 1)\n",
    "\n",
    "halo_date['release_month'] = halo_date['Date2']\n",
    "halo_date['release_day'] = halo_date['Date3']\n",
    "halode_date = halo_date.drop(['Date2', 'Date3'], axis = 1, inplace= True )\n",
    "halo5 = pd.concat([halo5, halo_date], axis = 1)\n",
    "print(list(halo5.columns))"
   ]
  },
  {
   "cell_type": "code",
   "execution_count": 10,
   "metadata": {},
   "outputs": [
    {
     "data": {
      "text/html": [
       "<div>\n",
       "<style scoped>\n",
       "    .dataframe tbody tr th:only-of-type {\n",
       "        vertical-align: middle;\n",
       "    }\n",
       "\n",
       "    .dataframe tbody tr th {\n",
       "        vertical-align: top;\n",
       "    }\n",
       "\n",
       "    .dataframe thead th {\n",
       "        text-align: right;\n",
       "    }\n",
       "</style>\n",
       "<table border=\"1\" class=\"dataframe\">\n",
       "  <thead>\n",
       "    <tr style=\"text-align: right;\">\n",
       "      <th></th>\n",
       "      <th>review_rating</th>\n",
       "      <th>review_rating</th>\n",
       "      <th>runtime_in_min</th>\n",
       "      <th>runtime_in_min</th>\n",
       "      <th>main_language_Albanian</th>\n",
       "      <th>multi_language_True</th>\n",
       "      <th>multi_genre_True</th>\n",
       "      <th>main_language_Arabic</th>\n",
       "      <th>main_language_Basque</th>\n",
       "      <th>main_language_Bengali</th>\n",
       "      <th>...</th>\n",
       "      <th>main_genre_ Adventure</th>\n",
       "      <th>main_genre_ Animation</th>\n",
       "      <th>main_genre_ Biography</th>\n",
       "      <th>main_genre_ Comedy</th>\n",
       "      <th>main_genre_ Crime</th>\n",
       "      <th>main_genre_ Drama</th>\n",
       "      <th>main_genre_ Family</th>\n",
       "      <th>main_genre_ Fantasy</th>\n",
       "      <th>main_genre_ History</th>\n",
       "      <th>main_genre_ Horror</th>\n",
       "    </tr>\n",
       "  </thead>\n",
       "  <tbody>\n",
       "    <tr>\n",
       "      <th>0</th>\n",
       "      <td>3.9</td>\n",
       "      <td>3.9</td>\n",
       "      <td>91.0</td>\n",
       "      <td>91.0</td>\n",
       "      <td>0</td>\n",
       "      <td>0</td>\n",
       "      <td>1</td>\n",
       "      <td>0</td>\n",
       "      <td>0</td>\n",
       "      <td>0</td>\n",
       "      <td>...</td>\n",
       "      <td>0</td>\n",
       "      <td>0</td>\n",
       "      <td>0</td>\n",
       "      <td>0</td>\n",
       "      <td>0</td>\n",
       "      <td>1</td>\n",
       "      <td>0</td>\n",
       "      <td>0</td>\n",
       "      <td>0</td>\n",
       "      <td>0</td>\n",
       "    </tr>\n",
       "    <tr>\n",
       "      <th>1</th>\n",
       "      <td>NaN</td>\n",
       "      <td>NaN</td>\n",
       "      <td>NaN</td>\n",
       "      <td>NaN</td>\n",
       "      <td>0</td>\n",
       "      <td>0</td>\n",
       "      <td>0</td>\n",
       "      <td>0</td>\n",
       "      <td>0</td>\n",
       "      <td>0</td>\n",
       "      <td>...</td>\n",
       "      <td>0</td>\n",
       "      <td>0</td>\n",
       "      <td>0</td>\n",
       "      <td>0</td>\n",
       "      <td>0</td>\n",
       "      <td>0</td>\n",
       "      <td>0</td>\n",
       "      <td>0</td>\n",
       "      <td>0</td>\n",
       "      <td>1</td>\n",
       "    </tr>\n",
       "    <tr>\n",
       "      <th>2</th>\n",
       "      <td>NaN</td>\n",
       "      <td>NaN</td>\n",
       "      <td>NaN</td>\n",
       "      <td>NaN</td>\n",
       "      <td>0</td>\n",
       "      <td>0</td>\n",
       "      <td>0</td>\n",
       "      <td>0</td>\n",
       "      <td>0</td>\n",
       "      <td>0</td>\n",
       "      <td>...</td>\n",
       "      <td>0</td>\n",
       "      <td>0</td>\n",
       "      <td>0</td>\n",
       "      <td>0</td>\n",
       "      <td>0</td>\n",
       "      <td>0</td>\n",
       "      <td>0</td>\n",
       "      <td>0</td>\n",
       "      <td>0</td>\n",
       "      <td>1</td>\n",
       "    </tr>\n",
       "    <tr>\n",
       "      <th>3</th>\n",
       "      <td>3.7</td>\n",
       "      <td>3.7</td>\n",
       "      <td>82.0</td>\n",
       "      <td>82.0</td>\n",
       "      <td>0</td>\n",
       "      <td>0</td>\n",
       "      <td>1</td>\n",
       "      <td>0</td>\n",
       "      <td>0</td>\n",
       "      <td>0</td>\n",
       "      <td>...</td>\n",
       "      <td>0</td>\n",
       "      <td>0</td>\n",
       "      <td>0</td>\n",
       "      <td>1</td>\n",
       "      <td>0</td>\n",
       "      <td>0</td>\n",
       "      <td>0</td>\n",
       "      <td>0</td>\n",
       "      <td>0</td>\n",
       "      <td>0</td>\n",
       "    </tr>\n",
       "    <tr>\n",
       "      <th>4</th>\n",
       "      <td>5.8</td>\n",
       "      <td>5.8</td>\n",
       "      <td>80.0</td>\n",
       "      <td>80.0</td>\n",
       "      <td>0</td>\n",
       "      <td>0</td>\n",
       "      <td>1</td>\n",
       "      <td>0</td>\n",
       "      <td>0</td>\n",
       "      <td>0</td>\n",
       "      <td>...</td>\n",
       "      <td>0</td>\n",
       "      <td>0</td>\n",
       "      <td>0</td>\n",
       "      <td>0</td>\n",
       "      <td>1</td>\n",
       "      <td>0</td>\n",
       "      <td>0</td>\n",
       "      <td>0</td>\n",
       "      <td>0</td>\n",
       "      <td>0</td>\n",
       "    </tr>\n",
       "  </tbody>\n",
       "</table>\n",
       "<p>5 rows × 79 columns</p>\n",
       "</div>"
      ],
      "text/plain": [
       "   review_rating  review_rating  runtime_in_min  runtime_in_min  \\\n",
       "0            3.9            3.9            91.0            91.0   \n",
       "1            NaN            NaN             NaN             NaN   \n",
       "2            NaN            NaN             NaN             NaN   \n",
       "3            3.7            3.7            82.0            82.0   \n",
       "4            5.8            5.8            80.0            80.0   \n",
       "\n",
       "   main_language_Albanian  multi_language_True  multi_genre_True  \\\n",
       "0                       0                    0                 1   \n",
       "1                       0                    0                 0   \n",
       "2                       0                    0                 0   \n",
       "3                       0                    0                 1   \n",
       "4                       0                    0                 1   \n",
       "\n",
       "   main_language_Arabic  main_language_Basque  main_language_Bengali  ...  \\\n",
       "0                     0                     0                      0  ...   \n",
       "1                     0                     0                      0  ...   \n",
       "2                     0                     0                      0  ...   \n",
       "3                     0                     0                      0  ...   \n",
       "4                     0                     0                      0  ...   \n",
       "\n",
       "   main_genre_ Adventure  main_genre_ Animation  main_genre_ Biography  \\\n",
       "0                      0                      0                      0   \n",
       "1                      0                      0                      0   \n",
       "2                      0                      0                      0   \n",
       "3                      0                      0                      0   \n",
       "4                      0                      0                      0   \n",
       "\n",
       "   main_genre_ Comedy  main_genre_ Crime  main_genre_ Drama  \\\n",
       "0                   0                  0                  1   \n",
       "1                   0                  0                  0   \n",
       "2                   0                  0                  0   \n",
       "3                   1                  0                  0   \n",
       "4                   0                  1                  0   \n",
       "\n",
       "   main_genre_ Family  main_genre_ Fantasy  main_genre_ History  \\\n",
       "0                   0                    0                    0   \n",
       "1                   0                    0                    0   \n",
       "2                   0                    0                    0   \n",
       "3                   0                    0                    0   \n",
       "4                   0                    0                    0   \n",
       "\n",
       "   main_genre_ Horror  \n",
       "0                   0  \n",
       "1                   1  \n",
       "2                   1  \n",
       "3                   0  \n",
       "4                   0  \n",
       "\n",
       "[5 rows x 79 columns]"
      ]
     },
     "execution_count": 10,
     "metadata": {},
     "output_type": "execute_result"
    }
   ],
   "source": [
    "\n",
    "halo_reg = halo5[['review_rating','runtime_in_min','main_language_Albanian','multi_language_True', 'multi_genre_True', 'main_language_Arabic', 'main_language_Basque', 'main_language_Bengali', 'main_language_Bulgarian', 'main_language_Cantonese', 'main_language_Catalan', 'main_language_Chinese', 'main_language_Czech', 'main_language_Danish', 'main_language_Divehi', 'main_language_Dutch', 'main_language_English', 'main_language_Filipino', 'main_language_Finnish', 'main_language_Flemish', 'main_language_French', 'main_language_German', 'main_language_Greek', 'main_language_Greenlandic', 'main_language_Hebrew', 'main_language_Hindi', 'main_language_Hungarian', 'main_language_Icelandic', 'main_language_Indonesian', 'main_language_Italian', 'main_language_Japanese', 'main_language_Kannada', 'main_language_Korean', 'main_language_Lao', 'main_language_Latvian', 'main_language_Malay', 'main_language_Malayalam', 'main_language_Mandarin', 'main_language_Marathi', 'main_language_None', 'main_language_Norwegian', 'main_language_Persian', 'main_language_Polish', 'main_language_Portuguese', 'main_language_Romanian', 'main_language_Russian', 'main_language_Serbian', 'main_language_Sinhalese', 'main_language_Slovak', 'main_language_Slovenian', 'main_language_Spanish', 'main_language_Swedish', 'main_language_Tamil', 'main_language_Telugu', 'main_language_Thai', 'main_language_Turkish', 'main_language_Urdu', 'main_language_Vietnamese', 'movie_rating_NC-17', 'movie_rating_NOT RATED', 'movie_rating_PG', 'movie_rating_PG-13', 'movie_rating_R', 'movie_rating_TV-14', 'movie_rating_TV-MA', 'movie_rating_TV-PG', 'movie_rating_X', 'main_genre_ Adventure', 'main_genre_ Animation', 'main_genre_ Biography', 'main_genre_ Comedy', 'main_genre_ Crime', 'main_genre_ Drama', 'main_genre_ Family', 'main_genre_ Fantasy', 'main_genre_ History', 'main_genre_ Horror']]\n",
    "halo_reg.head()"
   ]
  },
  {
   "cell_type": "code",
   "execution_count": 11,
   "metadata": {},
   "outputs": [],
   "source": [
    "halo_reg = halo_reg.loc[:, ~ halo_reg.columns.duplicated()]\n",
    "halo_reg.to_csv(r'C:\\Users\\burhan\\Desktop\\Halloween_Contest\\halo_reg.csv')"
   ]
  },
  {
   "cell_type": "code",
   "execution_count": 12,
   "metadata": {},
   "outputs": [
    {
     "name": "stdout",
     "output_type": "stream",
     "text": [
      "['review_rating', 'runtime_in_min', 'main_language_Albanian', 'multi_language_True', 'multi_genre_True', 'main_language_Arabic', 'main_language_Basque', 'main_language_Bengali', 'main_language_Bulgarian', 'main_language_Cantonese', 'main_language_Catalan', 'main_language_Chinese', 'main_language_Czech', 'main_language_Danish', 'main_language_Divehi', 'main_language_Dutch', 'main_language_English', 'main_language_Filipino', 'main_language_Finnish', 'main_language_Flemish', 'main_language_French', 'main_language_German', 'main_language_Greek', 'main_language_Greenlandic', 'main_language_Hebrew', 'main_language_Hindi', 'main_language_Hungarian', 'main_language_Icelandic', 'main_language_Indonesian', 'main_language_Italian', 'main_language_Japanese', 'main_language_Kannada', 'main_language_Korean', 'main_language_Lao', 'main_language_Latvian', 'main_language_Malay', 'main_language_Malayalam', 'main_language_Mandarin', 'main_language_Marathi', 'main_language_None', 'main_language_Norwegian', 'main_language_Persian', 'main_language_Polish', 'main_language_Portuguese', 'main_language_Romanian', 'main_language_Russian', 'main_language_Serbian', 'main_language_Sinhalese', 'main_language_Slovak', 'main_language_Slovenian', 'main_language_Spanish', 'main_language_Swedish', 'main_language_Tamil', 'main_language_Telugu', 'main_language_Thai', 'main_language_Turkish', 'main_language_Urdu', 'main_language_Vietnamese', 'movie_rating_NC-17', 'movie_rating_NOT RATED', 'movie_rating_PG', 'movie_rating_PG-13', 'movie_rating_R', 'movie_rating_TV-14', 'movie_rating_TV-MA', 'movie_rating_TV-PG', 'movie_rating_X', 'main_genre_ Adventure', 'main_genre_ Animation', 'main_genre_ Biography', 'main_genre_ Comedy', 'main_genre_ Crime', 'main_genre_ Drama', 'main_genre_ Family', 'main_genre_ Fantasy', 'main_genre_ History', 'main_genre_ Horror']\n"
     ]
    }
   ],
   "source": [
    "print(list(halo_reg.columns))"
   ]
  },
  {
   "cell_type": "code",
   "execution_count": 13,
   "metadata": {},
   "outputs": [],
   "source": [
    "from sklearn.linear_model import LinearRegression\n",
    "from sklearn.model_selection import train_test_split\n",
    "from sklearn.model_selection import KFold\n",
    "from sklearn.model_selection import cross_val_score\n",
    "%matplotlib inline\n",
    "from sklearn import metrics\n"
   ]
  },
  {
   "cell_type": "code",
   "execution_count": 14,
   "metadata": {},
   "outputs": [],
   "source": [
    "halo_reg.dropna(inplace=True)\n",
    "x = halo_reg[['runtime_in_min','multi_language_True','multi_genre_True', 'main_language_English', 'movie_rating_NC-17', 'movie_rating_NOT RATED', 'movie_rating_PG', 'movie_rating_PG-13', 'movie_rating_R', 'movie_rating_TV-14', 'movie_rating_TV-MA', 'movie_rating_TV-PG', 'movie_rating_X', 'main_genre_ Adventure', 'main_genre_ Animation', 'main_genre_ Biography', 'main_genre_ Comedy', 'main_genre_ Crime', 'main_genre_ Drama', 'main_genre_ Family', 'main_genre_ Fantasy', 'main_genre_ History', 'main_genre_ Horror' ]]\n",
    "y = halo_reg['review_rating']\n",
    "# I selected only few general columns for prediction otherwise model may overfit. "
   ]
  },
  {
   "cell_type": "code",
   "execution_count": 15,
   "metadata": {},
   "outputs": [],
   "source": [
    "x_train, x_test, y_train, y_test = train_test_split(x,y, test_size = .4, random_state=0)\n",
    "x_train.dropna(inplace=True)\n",
    "x_test.dropna(inplace=True)\n",
    "y_train.dropna(inplace=True)\n",
    "y_test.dropna(inplace=True)"
   ]
  },
  {
   "cell_type": "code",
   "execution_count": 17,
   "metadata": {},
   "outputs": [
    {
     "name": "stdout",
     "output_type": "stream",
     "text": [
      "(1618, 23) (1618,)\n",
      "(1080, 23) (1080,)\n"
     ]
    }
   ],
   "source": [
    "print(x_train.shape, y_train.shape)\n",
    "print(x_test.shape, y_test.shape)"
   ]
  },
  {
   "cell_type": "code",
   "execution_count": 18,
   "metadata": {},
   "outputs": [
    {
     "data": {
      "text/plain": [
       "LinearRegression()"
      ]
     },
     "execution_count": 18,
     "metadata": {},
     "output_type": "execute_result"
    }
   ],
   "source": [
    "lm = LinearRegression()\n",
    "lm.fit(x_train, y_train)"
   ]
  },
  {
   "cell_type": "code",
   "execution_count": 19,
   "metadata": {},
   "outputs": [
    {
     "data": {
      "text/plain": [
       "array([4.91264237, 6.16129801, 4.66674008, ..., 5.82841101, 4.89031775,\n",
       "       5.19483958])"
      ]
     },
     "execution_count": 19,
     "metadata": {},
     "output_type": "execute_result"
    }
   ],
   "source": [
    "predictions = lm.predict(x_test)\n",
    "predictions"
   ]
  },
  {
   "cell_type": "code",
   "execution_count": 20,
   "metadata": {},
   "outputs": [
    {
     "data": {
      "text/plain": [
       "<matplotlib.collections.PathCollection at 0x1ce40453c48>"
      ]
     },
     "execution_count": 20,
     "metadata": {},
     "output_type": "execute_result"
    },
    {
     "data": {
      "image/png": "[encoded data removed]",
      "text/plain": [
       "<Figure size 432x288 with 1 Axes>"
      ]
     },
     "metadata": {
      "needs_background": "light"
     },
     "output_type": "display_data"
    }
   ],
   "source": [
    "plt.scatter(y_test, predictions)"
   ]
  },
  {
   "cell_type": "code",
   "execution_count": 21,
   "metadata": {},
   "outputs": [],
   "source": [
    "#hardly we can see an accuracy \n"
   ]
  },
  {
   "cell_type": "code",
   "execution_count": 22,
   "metadata": {},
   "outputs": [
    {
     "name": "stdout",
     "output_type": "stream",
     "text": [
      "Score: 0.0731528892801192\n"
     ]
    }
   ],
   "source": [
    "print(\"Score:\", lm.score(x_test, y_test))"
   ]
  },
  {
   "cell_type": "code",
   "execution_count": 23,
   "metadata": {},
   "outputs": [
    {
     "data": {
      "text/plain": [
       "1.0692544122693848"
      ]
     },
     "execution_count": 23,
     "metadata": {},
     "output_type": "execute_result"
    }
   ],
   "source": [
    "metrics.mean_absolute_error(y_test, predictions)"
   ]
  },
  {
   "cell_type": "code",
   "execution_count": 24,
   "metadata": {},
   "outputs": [
    {
     "data": {
      "text/plain": [
       "1.8417724756612852"
      ]
     },
     "execution_count": 24,
     "metadata": {},
     "output_type": "execute_result"
    }
   ],
   "source": [
    "metrics.mean_squared_error(y_test, predictions)"
   ]
  },
  {
   "cell_type": "code",
   "execution_count": 25,
   "metadata": {},
   "outputs": [
    {
     "data": {
      "text/plain": [
       "1.3571191825559334"
      ]
     },
     "execution_count": 25,
     "metadata": {},
     "output_type": "execute_result"
    }
   ],
   "source": [
    "np.sqrt(metrics.mean_squared_error(y_test, predictions))"
   ]
  },
  {
   "cell_type": "code",
   "execution_count": 26,
   "metadata": {},
   "outputs": [
    {
     "data": {
      "text/plain": [
       "1.0"
      ]
     },
     "execution_count": 26,
     "metadata": {},
     "output_type": "execute_result"
    }
   ],
   "source": [
    "a = halo_reg['review_rating']\n",
    "max(a)\n",
    "min(a)"
   ]
  },
  {
   "cell_type": "code",
   "execution_count": 27,
   "metadata": {},
   "outputs": [
    {
     "data": {
      "text/html": [
       "<div>\n",
       "<style scoped>\n",
       "    .dataframe tbody tr th:only-of-type {\n",
       "        vertical-align: middle;\n",
       "    }\n",
       "\n",
       "    .dataframe tbody tr th {\n",
       "        vertical-align: top;\n",
       "    }\n",
       "\n",
       "    .dataframe thead th {\n",
       "        text-align: right;\n",
       "    }\n",
       "</style>\n",
       "<table border=\"1\" class=\"dataframe\">\n",
       "  <thead>\n",
       "    <tr style=\"text-align: right;\">\n",
       "      <th></th>\n",
       "      <th>review_rating</th>\n",
       "      <th>runtime_in_min</th>\n",
       "      <th>main_language_Albanian</th>\n",
       "      <th>multi_language_True</th>\n",
       "      <th>multi_genre_True</th>\n",
       "      <th>main_language_Arabic</th>\n",
       "      <th>main_language_Basque</th>\n",
       "      <th>main_language_Bengali</th>\n",
       "      <th>main_language_Bulgarian</th>\n",
       "      <th>main_language_Cantonese</th>\n",
       "      <th>...</th>\n",
       "      <th>main_genre_ Adventure</th>\n",
       "      <th>main_genre_ Animation</th>\n",
       "      <th>main_genre_ Biography</th>\n",
       "      <th>main_genre_ Comedy</th>\n",
       "      <th>main_genre_ Crime</th>\n",
       "      <th>main_genre_ Drama</th>\n",
       "      <th>main_genre_ Family</th>\n",
       "      <th>main_genre_ Fantasy</th>\n",
       "      <th>main_genre_ History</th>\n",
       "      <th>main_genre_ Horror</th>\n",
       "    </tr>\n",
       "  </thead>\n",
       "  <tbody>\n",
       "    <tr>\n",
       "      <th>0</th>\n",
       "      <td>3.9</td>\n",
       "      <td>91.0</td>\n",
       "      <td>0</td>\n",
       "      <td>0</td>\n",
       "      <td>1</td>\n",
       "      <td>0</td>\n",
       "      <td>0</td>\n",
       "      <td>0</td>\n",
       "      <td>0</td>\n",
       "      <td>0</td>\n",
       "      <td>...</td>\n",
       "      <td>0</td>\n",
       "      <td>0</td>\n",
       "      <td>0</td>\n",
       "      <td>0</td>\n",
       "      <td>0</td>\n",
       "      <td>1</td>\n",
       "      <td>0</td>\n",
       "      <td>0</td>\n",
       "      <td>0</td>\n",
       "      <td>0</td>\n",
       "    </tr>\n",
       "    <tr>\n",
       "      <th>3</th>\n",
       "      <td>3.7</td>\n",
       "      <td>82.0</td>\n",
       "      <td>0</td>\n",
       "      <td>0</td>\n",
       "      <td>1</td>\n",
       "      <td>0</td>\n",
       "      <td>0</td>\n",
       "      <td>0</td>\n",
       "      <td>0</td>\n",
       "      <td>0</td>\n",
       "      <td>...</td>\n",
       "      <td>0</td>\n",
       "      <td>0</td>\n",
       "      <td>0</td>\n",
       "      <td>1</td>\n",
       "      <td>0</td>\n",
       "      <td>0</td>\n",
       "      <td>0</td>\n",
       "      <td>0</td>\n",
       "      <td>0</td>\n",
       "      <td>0</td>\n",
       "    </tr>\n",
       "    <tr>\n",
       "      <th>4</th>\n",
       "      <td>5.8</td>\n",
       "      <td>80.0</td>\n",
       "      <td>0</td>\n",
       "      <td>0</td>\n",
       "      <td>1</td>\n",
       "      <td>0</td>\n",
       "      <td>0</td>\n",
       "      <td>0</td>\n",
       "      <td>0</td>\n",
       "      <td>0</td>\n",
       "      <td>...</td>\n",
       "      <td>0</td>\n",
       "      <td>0</td>\n",
       "      <td>0</td>\n",
       "      <td>0</td>\n",
       "      <td>1</td>\n",
       "      <td>0</td>\n",
       "      <td>0</td>\n",
       "      <td>0</td>\n",
       "      <td>0</td>\n",
       "      <td>0</td>\n",
       "    </tr>\n",
       "    <tr>\n",
       "      <th>6</th>\n",
       "      <td>5.1</td>\n",
       "      <td>90.0</td>\n",
       "      <td>0</td>\n",
       "      <td>0</td>\n",
       "      <td>1</td>\n",
       "      <td>0</td>\n",
       "      <td>0</td>\n",
       "      <td>0</td>\n",
       "      <td>0</td>\n",
       "      <td>0</td>\n",
       "      <td>...</td>\n",
       "      <td>0</td>\n",
       "      <td>0</td>\n",
       "      <td>0</td>\n",
       "      <td>0</td>\n",
       "      <td>0</td>\n",
       "      <td>1</td>\n",
       "      <td>0</td>\n",
       "      <td>0</td>\n",
       "      <td>0</td>\n",
       "      <td>0</td>\n",
       "    </tr>\n",
       "    <tr>\n",
       "      <th>7</th>\n",
       "      <td>6.5</td>\n",
       "      <td>117.0</td>\n",
       "      <td>0</td>\n",
       "      <td>0</td>\n",
       "      <td>1</td>\n",
       "      <td>0</td>\n",
       "      <td>0</td>\n",
       "      <td>0</td>\n",
       "      <td>0</td>\n",
       "      <td>0</td>\n",
       "      <td>...</td>\n",
       "      <td>0</td>\n",
       "      <td>0</td>\n",
       "      <td>0</td>\n",
       "      <td>0</td>\n",
       "      <td>0</td>\n",
       "      <td>0</td>\n",
       "      <td>0</td>\n",
       "      <td>0</td>\n",
       "      <td>0</td>\n",
       "      <td>0</td>\n",
       "    </tr>\n",
       "  </tbody>\n",
       "</table>\n",
       "<p>5 rows × 77 columns</p>\n",
       "</div>"
      ],
      "text/plain": [
       "   review_rating  runtime_in_min  main_language_Albanian  multi_language_True  \\\n",
       "0            3.9            91.0                       0                    0   \n",
       "3            3.7            82.0                       0                    0   \n",
       "4            5.8            80.0                       0                    0   \n",
       "6            5.1            90.0                       0                    0   \n",
       "7            6.5           117.0                       0                    0   \n",
       "\n",
       "   multi_genre_True  main_language_Arabic  main_language_Basque  \\\n",
       "0                 1                     0                     0   \n",
       "3                 1                     0                     0   \n",
       "4                 1                     0                     0   \n",
       "6                 1                     0                     0   \n",
       "7                 1                     0                     0   \n",
       "\n",
       "   main_language_Bengali  main_language_Bulgarian  main_language_Cantonese  \\\n",
       "0                      0                        0                        0   \n",
       "3                      0                        0                        0   \n",
       "4                      0                        0                        0   \n",
       "6                      0                        0                        0   \n",
       "7                      0                        0                        0   \n",
       "\n",
       "   ...  main_genre_ Adventure  main_genre_ Animation  main_genre_ Biography  \\\n",
       "0  ...                      0                      0                      0   \n",
       "3  ...                      0                      0                      0   \n",
       "4  ...                      0                      0                      0   \n",
       "6  ...                      0                      0                      0   \n",
       "7  ...                      0                      0                      0   \n",
       "\n",
       "   main_genre_ Comedy  main_genre_ Crime  main_genre_ Drama  \\\n",
       "0                   0                  0                  1   \n",
       "3                   1                  0                  0   \n",
       "4                   0                  1                  0   \n",
       "6                   0                  0                  1   \n",
       "7                   0                  0                  0   \n",
       "\n",
       "   main_genre_ Family  main_genre_ Fantasy  main_genre_ History  \\\n",
       "0                   0                    0                    0   \n",
       "3                   0                    0                    0   \n",
       "4                   0                    0                    0   \n",
       "6                   0                    0                    0   \n",
       "7                   0                    0                    0   \n",
       "\n",
       "   main_genre_ Horror  \n",
       "0                   0  \n",
       "3                   0  \n",
       "4                   0  \n",
       "6                   0  \n",
       "7                   0  \n",
       "\n",
       "[5 rows x 77 columns]"
      ]
     },
     "execution_count": 27,
     "metadata": {},
     "output_type": "execute_result"
    }
   ],
   "source": [
    "halo_reg1 = halo_reg\n",
    "halo_reg1.head()"
   ]
  },
  {
   "cell_type": "code",
   "execution_count": 28,
   "metadata": {},
   "outputs": [
    {
     "data": {
      "text/html": [
       "<div>\n",
       "<style scoped>\n",
       "    .dataframe tbody tr th:only-of-type {\n",
       "        vertical-align: middle;\n",
       "    }\n",
       "\n",
       "    .dataframe tbody tr th {\n",
       "        vertical-align: top;\n",
       "    }\n",
       "\n",
       "    .dataframe thead th {\n",
       "        text-align: right;\n",
       "    }\n",
       "</style>\n",
       "<table border=\"1\" class=\"dataframe\">\n",
       "  <thead>\n",
       "    <tr style=\"text-align: right;\">\n",
       "      <th></th>\n",
       "      <th>review_rating</th>\n",
       "      <th>runtime_in_min</th>\n",
       "      <th>main_language_Albanian</th>\n",
       "      <th>multi_language_True</th>\n",
       "      <th>multi_genre_True</th>\n",
       "      <th>main_language_Arabic</th>\n",
       "      <th>main_language_Basque</th>\n",
       "      <th>main_language_Bengali</th>\n",
       "      <th>main_language_Bulgarian</th>\n",
       "      <th>main_language_Cantonese</th>\n",
       "      <th>...</th>\n",
       "      <th>main_genre_ Animation</th>\n",
       "      <th>main_genre_ Biography</th>\n",
       "      <th>main_genre_ Comedy</th>\n",
       "      <th>main_genre_ Crime</th>\n",
       "      <th>main_genre_ Drama</th>\n",
       "      <th>main_genre_ Family</th>\n",
       "      <th>main_genre_ Fantasy</th>\n",
       "      <th>main_genre_ History</th>\n",
       "      <th>main_genre_ Horror</th>\n",
       "      <th>review_Ordinal</th>\n",
       "    </tr>\n",
       "  </thead>\n",
       "  <tbody>\n",
       "    <tr>\n",
       "      <th>0</th>\n",
       "      <td>3.9</td>\n",
       "      <td>91.0</td>\n",
       "      <td>0</td>\n",
       "      <td>0</td>\n",
       "      <td>1</td>\n",
       "      <td>0</td>\n",
       "      <td>0</td>\n",
       "      <td>0</td>\n",
       "      <td>0</td>\n",
       "      <td>0</td>\n",
       "      <td>...</td>\n",
       "      <td>0</td>\n",
       "      <td>0</td>\n",
       "      <td>0</td>\n",
       "      <td>0</td>\n",
       "      <td>1</td>\n",
       "      <td>0</td>\n",
       "      <td>0</td>\n",
       "      <td>0</td>\n",
       "      <td>0</td>\n",
       "      <td>3</td>\n",
       "    </tr>\n",
       "    <tr>\n",
       "      <th>3</th>\n",
       "      <td>3.7</td>\n",
       "      <td>82.0</td>\n",
       "      <td>0</td>\n",
       "      <td>0</td>\n",
       "      <td>1</td>\n",
       "      <td>0</td>\n",
       "      <td>0</td>\n",
       "      <td>0</td>\n",
       "      <td>0</td>\n",
       "      <td>0</td>\n",
       "      <td>...</td>\n",
       "      <td>0</td>\n",
       "      <td>0</td>\n",
       "      <td>1</td>\n",
       "      <td>0</td>\n",
       "      <td>0</td>\n",
       "      <td>0</td>\n",
       "      <td>0</td>\n",
       "      <td>0</td>\n",
       "      <td>0</td>\n",
       "      <td>3</td>\n",
       "    </tr>\n",
       "    <tr>\n",
       "      <th>4</th>\n",
       "      <td>5.8</td>\n",
       "      <td>80.0</td>\n",
       "      <td>0</td>\n",
       "      <td>0</td>\n",
       "      <td>1</td>\n",
       "      <td>0</td>\n",
       "      <td>0</td>\n",
       "      <td>0</td>\n",
       "      <td>0</td>\n",
       "      <td>0</td>\n",
       "      <td>...</td>\n",
       "      <td>0</td>\n",
       "      <td>0</td>\n",
       "      <td>0</td>\n",
       "      <td>1</td>\n",
       "      <td>0</td>\n",
       "      <td>0</td>\n",
       "      <td>0</td>\n",
       "      <td>0</td>\n",
       "      <td>0</td>\n",
       "      <td>5</td>\n",
       "    </tr>\n",
       "    <tr>\n",
       "      <th>6</th>\n",
       "      <td>5.1</td>\n",
       "      <td>90.0</td>\n",
       "      <td>0</td>\n",
       "      <td>0</td>\n",
       "      <td>1</td>\n",
       "      <td>0</td>\n",
       "      <td>0</td>\n",
       "      <td>0</td>\n",
       "      <td>0</td>\n",
       "      <td>0</td>\n",
       "      <td>...</td>\n",
       "      <td>0</td>\n",
       "      <td>0</td>\n",
       "      <td>0</td>\n",
       "      <td>0</td>\n",
       "      <td>1</td>\n",
       "      <td>0</td>\n",
       "      <td>0</td>\n",
       "      <td>0</td>\n",
       "      <td>0</td>\n",
       "      <td>5</td>\n",
       "    </tr>\n",
       "    <tr>\n",
       "      <th>7</th>\n",
       "      <td>6.5</td>\n",
       "      <td>117.0</td>\n",
       "      <td>0</td>\n",
       "      <td>0</td>\n",
       "      <td>1</td>\n",
       "      <td>0</td>\n",
       "      <td>0</td>\n",
       "      <td>0</td>\n",
       "      <td>0</td>\n",
       "      <td>0</td>\n",
       "      <td>...</td>\n",
       "      <td>0</td>\n",
       "      <td>0</td>\n",
       "      <td>0</td>\n",
       "      <td>0</td>\n",
       "      <td>0</td>\n",
       "      <td>0</td>\n",
       "      <td>0</td>\n",
       "      <td>0</td>\n",
       "      <td>0</td>\n",
       "      <td>6</td>\n",
       "    </tr>\n",
       "  </tbody>\n",
       "</table>\n",
       "<p>5 rows × 78 columns</p>\n",
       "</div>"
      ],
      "text/plain": [
       "   review_rating  runtime_in_min  main_language_Albanian  multi_language_True  \\\n",
       "0            3.9            91.0                       0                    0   \n",
       "3            3.7            82.0                       0                    0   \n",
       "4            5.8            80.0                       0                    0   \n",
       "6            5.1            90.0                       0                    0   \n",
       "7            6.5           117.0                       0                    0   \n",
       "\n",
       "   multi_genre_True  main_language_Arabic  main_language_Basque  \\\n",
       "0                 1                     0                     0   \n",
       "3                 1                     0                     0   \n",
       "4                 1                     0                     0   \n",
       "6                 1                     0                     0   \n",
       "7                 1                     0                     0   \n",
       "\n",
       "   main_language_Bengali  main_language_Bulgarian  main_language_Cantonese  \\\n",
       "0                      0                        0                        0   \n",
       "3                      0                        0                        0   \n",
       "4                      0                        0                        0   \n",
       "6                      0                        0                        0   \n",
       "7                      0                        0                        0   \n",
       "\n",
       "   ...  main_genre_ Animation  main_genre_ Biography  main_genre_ Comedy  \\\n",
       "0  ...                      0                      0                   0   \n",
       "3  ...                      0                      0                   1   \n",
       "4  ...                      0                      0                   0   \n",
       "6  ...                      0                      0                   0   \n",
       "7  ...                      0                      0                   0   \n",
       "\n",
       "   main_genre_ Crime  main_genre_ Drama  main_genre_ Family  \\\n",
       "0                  0                  1                   0   \n",
       "3                  0                  0                   0   \n",
       "4                  1                  0                   0   \n",
       "6                  0                  1                   0   \n",
       "7                  0                  0                   0   \n",
       "\n",
       "   main_genre_ Fantasy  main_genre_ History  main_genre_ Horror  \\\n",
       "0                    0                    0                   0   \n",
       "3                    0                    0                   0   \n",
       "4                    0                    0                   0   \n",
       "6                    0                    0                   0   \n",
       "7                    0                    0                   0   \n",
       "\n",
       "   review_Ordinal  \n",
       "0               3  \n",
       "3               3  \n",
       "4               5  \n",
       "6               5  \n",
       "7               6  \n",
       "\n",
       "[5 rows x 78 columns]"
      ]
     },
     "execution_count": 28,
     "metadata": {},
     "output_type": "execute_result"
    }
   ],
   "source": [
    "# what if categorize review rating from 1-10 as ordinal categories ? \n",
    "def ordinal (series):\n",
    "    if series >= 0 and series < 1:\n",
    "        return 0\n",
    "    elif series  >=1 and series < 2 :\n",
    "        return 1\n",
    "    elif series >= 2 and series < 3:\n",
    "        return 2\n",
    "    elif series >= 3 and series < 4:\n",
    "        return 3\n",
    "    elif series >= 4 and series < 5:\n",
    "        return 4\n",
    "    elif series >= 5 and series < 6:\n",
    "        return 5\n",
    "    elif series >= 6 and series < 7:\n",
    "        return 6\n",
    "    elif series >= 7 and series < 8:\n",
    "        return 7\n",
    "    elif series >= 8 and series < 9:\n",
    "        return 8\n",
    "    elif series >= 9 and series < 10:\n",
    "        return 9\n",
    "\n",
    "halo_reg1[\"review_Ordinal\"] = halo_reg['review_rating'].apply(ordinal)\n",
    "halo_reg1.head()"
   ]
  },
  {
   "cell_type": "code",
   "execution_count": 29,
   "metadata": {},
   "outputs": [
    {
     "name": "stdout",
     "output_type": "stream",
     "text": [
      "['runtime_in_min', 'main_language_Albanian', 'multi_language_True', 'multi_genre_True', 'main_language_Arabic', 'main_language_Basque', 'main_language_Bengali', 'main_language_Bulgarian', 'main_language_Cantonese', 'main_language_Catalan', 'main_language_Chinese', 'main_language_Czech', 'main_language_Danish', 'main_language_Divehi', 'main_language_Dutch', 'main_language_English', 'main_language_Filipino', 'main_language_Finnish', 'main_language_Flemish', 'main_language_French', 'main_language_German', 'main_language_Greek', 'main_language_Greenlandic', 'main_language_Hebrew', 'main_language_Hindi', 'main_language_Hungarian', 'main_language_Icelandic', 'main_language_Indonesian', 'main_language_Italian', 'main_language_Japanese', 'main_language_Kannada', 'main_language_Korean', 'main_language_Lao', 'main_language_Latvian', 'main_language_Malay', 'main_language_Malayalam', 'main_language_Mandarin', 'main_language_Marathi', 'main_language_None', 'main_language_Norwegian', 'main_language_Persian', 'main_language_Polish', 'main_language_Portuguese', 'main_language_Romanian', 'main_language_Russian', 'main_language_Serbian', 'main_language_Sinhalese', 'main_language_Slovak', 'main_language_Slovenian', 'main_language_Spanish', 'main_language_Swedish', 'main_language_Tamil', 'main_language_Telugu', 'main_language_Thai', 'main_language_Turkish', 'main_language_Urdu', 'main_language_Vietnamese', 'movie_rating_NC-17', 'movie_rating_NOT RATED', 'movie_rating_PG', 'movie_rating_PG-13', 'movie_rating_R', 'movie_rating_TV-14', 'movie_rating_TV-MA', 'movie_rating_TV-PG', 'movie_rating_X', 'main_genre_ Adventure', 'main_genre_ Animation', 'main_genre_ Biography', 'main_genre_ Comedy', 'main_genre_ Crime', 'main_genre_ Drama', 'main_genre_ Family', 'main_genre_ Fantasy', 'main_genre_ History', 'main_genre_ Horror', 'review_Ordinal']\n"
     ]
    }
   ],
   "source": [
    "halo_reg1 = halo_reg1.drop(['review_rating'], axis = 1)\n",
    "print(list(halo_reg1))"
   ]
  },
  {
   "cell_type": "code",
   "execution_count": 30,
   "metadata": {},
   "outputs": [],
   "source": [
    "import seaborn as sns\n",
    "%matplotlib inline\n",
    "from sklearn.cluster import KMeans"
   ]
  },
  {
   "cell_type": "code",
   "execution_count": 31,
   "metadata": {},
   "outputs": [],
   "source": [
    "from sklearn.preprocessing import StandardScaler\n",
    "from sklearn.model_selection import train_test_split\n",
    "from sklearn.neighbors import KNeighborsClassifier\n",
    "from sklearn.metrics import classification_report, confusion_matrix"
   ]
  },
  {
   "cell_type": "code",
   "execution_count": 32,
   "metadata": {},
   "outputs": [],
   "source": [
    "review = halo_reg1.drop('review_Ordinal', axis=1)"
   ]
  },
  {
   "cell_type": "code",
   "execution_count": 33,
   "metadata": {},
   "outputs": [],
   "source": [
    "scaler = StandardScaler()\n",
    "scaler.fit(review)\n",
    "scaledVariables = scaler.transform(review)\n",
    "reviewScaled = pd.DataFrame(scaledVariables, columns=halo_reg1.columns[:-1])"
   ]
  },
  {
   "cell_type": "code",
   "execution_count": 34,
   "metadata": {},
   "outputs": [],
   "source": [
    "x = reviewScaled\n",
    "y = halo_reg1['review_Ordinal']"
   ]
  },
  {
   "cell_type": "code",
   "execution_count": 35,
   "metadata": {},
   "outputs": [],
   "source": [
    "x_train, x_test, y_train, y_test = train_test_split(x,y,test_size=0.3, random_state=101)"
   ]
  },
  {
   "cell_type": "code",
   "execution_count": 36,
   "metadata": {},
   "outputs": [],
   "source": [
    "knn = KNeighborsClassifier(n_neighbors=1)\n",
    "knn.fit(x_train, y_train)\n",
    "pred = knn.predict(x_test)"
   ]
  },
  {
   "cell_type": "code",
   "execution_count": 37,
   "metadata": {},
   "outputs": [
    {
     "name": "stdout",
     "output_type": "stream",
     "text": [
      "[[ 0  0  1  4  2  1  0  0  0]\n",
      " [ 3  3  9 15 13  6  1  1  0]\n",
      " [ 1  7 35 35 25 19  7  1  0]\n",
      " [ 4 20 36 49 50 30  3  2  0]\n",
      " [ 2 17 41 57 70 35 10  3  1]\n",
      " [ 2  5 19 31 36 27  8  2  1]\n",
      " [ 2  2  6 12  7  7  7  1  1]\n",
      " [ 0  1  2  1  2  2  3  1  0]\n",
      " [ 0  0  1  2  0  0  0  0  0]]\n"
     ]
    }
   ],
   "source": [
    "print(confusion_matrix(y_test, pred))"
   ]
  },
  {
   "cell_type": "code",
   "execution_count": 38,
   "metadata": {},
   "outputs": [
    {
     "name": "stdout",
     "output_type": "stream",
     "text": [
      "              precision    recall  f1-score   support\n",
      "\n",
      "           1       0.00      0.00      0.00         8\n",
      "           2       0.05      0.06      0.06        51\n",
      "           3       0.23      0.27      0.25       130\n",
      "           4       0.24      0.25      0.24       194\n",
      "           5       0.34      0.30      0.32       236\n",
      "           6       0.21      0.21      0.21       131\n",
      "           7       0.18      0.16      0.17        45\n",
      "           8       0.09      0.08      0.09        12\n",
      "           9       0.00      0.00      0.00         3\n",
      "\n",
      "    accuracy                           0.24       810\n",
      "   macro avg       0.15      0.15      0.15       810\n",
      "weighted avg       0.24      0.24      0.24       810\n",
      "\n"
     ]
    }
   ],
   "source": [
    "print(classification_report(y_test,pred))"
   ]
  },
  {
   "cell_type": "code",
   "execution_count": 39,
   "metadata": {},
   "outputs": [],
   "source": [
    "knn = KNeighborsClassifier(n_neighbors=8)\n",
    "knn.fit(x_train, y_train)\n",
    "pred = knn.predict(x_test)"
   ]
  },
  {
   "cell_type": "code",
   "execution_count": 40,
   "metadata": {},
   "outputs": [
    {
     "name": "stdout",
     "output_type": "stream",
     "text": [
      "              precision    recall  f1-score   support\n",
      "\n",
      "           1       0.00      0.00      0.00         8\n",
      "           2       0.04      0.04      0.04        51\n",
      "           3       0.17      0.21      0.18       130\n",
      "           4       0.27      0.43      0.33       194\n",
      "           5       0.36      0.29      0.32       236\n",
      "           6       0.24      0.17      0.20       131\n",
      "           7       0.45      0.11      0.18        45\n",
      "           8       0.00      0.00      0.00        12\n",
      "           9       0.00      0.00      0.00         3\n",
      "\n",
      "    accuracy                           0.26       810\n",
      "   macro avg       0.17      0.14      0.14       810\n",
      "weighted avg       0.26      0.26      0.25       810\n",
      "\n"
     ]
    }
   ],
   "source": [
    "print(classification_report(y_test,pred))"
   ]
  },
  {
   "cell_type": "code",
   "execution_count": 41,
   "metadata": {},
   "outputs": [],
   "source": [
    "# KNN gives 26% weighted average prediction (better than our linear model)"
   ]
  },
  {
   "cell_type": "code",
   "execution_count": 42,
   "metadata": {},
   "outputs": [],
   "source": [
    "from sklearn.tree import DecisionTreeClassifier\n",
    "from sklearn.metrics import classification_report, confusion_matrix"
   ]
  },
  {
   "cell_type": "code",
   "execution_count": 43,
   "metadata": {},
   "outputs": [],
   "source": [
    "x = review\n",
    "y = halo_reg1['review_Ordinal']"
   ]
  },
  {
   "cell_type": "code",
   "execution_count": 44,
   "metadata": {},
   "outputs": [],
   "source": [
    "x_train, x_test, y_train, y_test = train_test_split(x,y, test_size=0.3, random_state=0)"
   ]
  },
  {
   "cell_type": "code",
   "execution_count": 45,
   "metadata": {},
   "outputs": [
    {
     "data": {
      "text/plain": [
       "DecisionTreeClassifier(random_state=76)"
      ]
     },
     "execution_count": 45,
     "metadata": {},
     "output_type": "execute_result"
    }
   ],
   "source": [
    "decisionTree = DecisionTreeClassifier(random_state=76)\n",
    "decisionTree.fit(x_train, y_train)"
   ]
  },
  {
   "cell_type": "code",
   "execution_count": 46,
   "metadata": {},
   "outputs": [
    {
     "name": "stdout",
     "output_type": "stream",
     "text": [
      "[[ 0  0  2  3  2  0  1  0  1]\n",
      " [ 1  8 15 16  5  1  1  0  0]\n",
      " [ 2 16 44 42 22 16  3  1  0]\n",
      " [ 1 12 49 71 31 19  2  1  2]\n",
      " [ 2 22 33 72 38 32  5  6  2]\n",
      " [ 1  6 23 33 43 29  9  1  0]\n",
      " [ 2  4 15  7  6  6  1  2  0]\n",
      " [ 0  1  4  5  4  1  2  0  0]\n",
      " [ 0  0  2  0  1  0  0  0  0]]\n"
     ]
    }
   ],
   "source": [
    "treePredictions = decisionTree.predict(x_test)\n",
    "print(confusion_matrix(y_test, treePredictions))"
   ]
  },
  {
   "cell_type": "code",
   "execution_count": 47,
   "metadata": {},
   "outputs": [
    {
     "name": "stdout",
     "output_type": "stream",
     "text": [
      "              precision    recall  f1-score   support\n",
      "\n",
      "           1       0.00      0.00      0.00         9\n",
      "           2       0.12      0.17      0.14        47\n",
      "           3       0.24      0.30      0.26       146\n",
      "           4       0.29      0.38      0.32       188\n",
      "           5       0.25      0.18      0.21       212\n",
      "           6       0.28      0.20      0.23       145\n",
      "           7       0.04      0.02      0.03        43\n",
      "           8       0.00      0.00      0.00        17\n",
      "           9       0.00      0.00      0.00         3\n",
      "\n",
      "    accuracy                           0.24       810\n",
      "   macro avg       0.13      0.14      0.13       810\n",
      "weighted avg       0.23      0.24      0.23       810\n",
      "\n"
     ]
    }
   ],
   "source": [
    "print(classification_report(y_test, treePredictions))"
   ]
  },
  {
   "cell_type": "code",
   "execution_count": 48,
   "metadata": {},
   "outputs": [],
   "source": [
    "#Not better than KNN"
   ]
  },
  {
   "cell_type": "code",
   "execution_count": 49,
   "metadata": {},
   "outputs": [],
   "source": [
    "from sklearn.ensemble import RandomForestClassifier\n",
    "from sklearn.model_selection import train_test_split\n",
    "from sklearn.metrics import classification_report, confusion_matrix"
   ]
  },
  {
   "cell_type": "code",
   "execution_count": 50,
   "metadata": {},
   "outputs": [],
   "source": [
    "#RF "
   ]
  },
  {
   "cell_type": "code",
   "execution_count": 51,
   "metadata": {},
   "outputs": [
    {
     "data": {
      "text/plain": [
       "RandomForestClassifier(n_estimators=500, random_state=0)"
      ]
     },
     "execution_count": 51,
     "metadata": {},
     "output_type": "execute_result"
    }
   ],
   "source": [
    "forest = RandomForestClassifier(n_estimators=500, random_state=0)\n",
    "forest.fit(x_train, y_train)"
   ]
  },
  {
   "cell_type": "code",
   "execution_count": 52,
   "metadata": {},
   "outputs": [
    {
     "name": "stdout",
     "output_type": "stream",
     "text": [
      "[[ 0  0  2  2  2  1  1  0  1]\n",
      " [ 0  4  8 14 17  3  1  0  0]\n",
      " [ 0  9 33 43 38 17  5  1  0]\n",
      " [ 0  7 39 67 44 25  3  2  1]\n",
      " [ 0 12 25 68 56 38  7  5  1]\n",
      " [ 0  5 17 35 45 34  9  0  0]\n",
      " [ 1  4  9  8  6  9  4  2  0]\n",
      " [ 0  1  1  4  4  0  4  3  0]\n",
      " [ 0  0  2  1  0  0  0  0  0]]\n",
      "              precision    recall  f1-score   support\n",
      "\n",
      "           1       0.00      0.00      0.00         9\n",
      "           2       0.10      0.09      0.09        47\n",
      "           3       0.24      0.23      0.23       146\n",
      "           4       0.28      0.36      0.31       188\n",
      "           5       0.26      0.26      0.26       212\n",
      "           6       0.27      0.23      0.25       145\n",
      "           7       0.12      0.09      0.10        43\n",
      "           8       0.23      0.18      0.20        17\n",
      "           9       0.00      0.00      0.00         3\n",
      "\n",
      "    accuracy                           0.25       810\n",
      "   macro avg       0.17      0.16      0.16       810\n",
      "weighted avg       0.24      0.25      0.24       810\n",
      "\n"
     ]
    }
   ],
   "source": [
    "forestPredictions = forest.predict(x_test)\n",
    "print(confusion_matrix(y_test, forestPredictions))\n",
    "print(classification_report(y_test, forestPredictions))"
   ]
  },
  {
   "cell_type": "code",
   "execution_count": 53,
   "metadata": {},
   "outputs": [],
   "source": [
    "#Still not better than KNN"
   ]
  },
  {
   "cell_type": "code",
   "execution_count": 54,
   "metadata": {},
   "outputs": [],
   "source": [
    "# optimization "
   ]
  },
  {
   "cell_type": "code",
   "execution_count": 55,
   "metadata": {},
   "outputs": [],
   "source": [
    "from sklearn.model_selection import RandomizedSearchCV\n",
    "from sklearn.metrics import classification_report, confusion_matrix, accuracy_score"
   ]
  },
  {
   "cell_type": "code",
   "execution_count": 56,
   "metadata": {},
   "outputs": [
    {
     "name": "stdout",
     "output_type": "stream",
     "text": [
      "1 : 0.24567901234567902\n",
      "4 : 0.21604938271604937\n",
      "5 : 0.20987654320987653\n",
      "8 : 0.22469135802469137\n",
      "10 : 0.23703703703703705\n",
      "20 : 0.2506172839506173\n",
      "50 : 0.24074074074074073\n",
      "75 : 0.24074074074074073\n",
      "100 : 0.24444444444444444\n",
      "250 : 0.24691358024691357\n",
      "500 : 0.2506172839506173\n",
      "30 : 0.24938271604938272\n"
     ]
    }
   ],
   "source": [
    "n_estimators_array = [1, 4, 5, 8, 10, 20, 50, 75, 100, 250, 500, 30]\n",
    "results = []\n",
    "for n in n_estimators_array:\n",
    "    forest = RandomForestClassifier(n_estimators=n, random_state=76)\n",
    "    forest.fit(x_train, y_train)\n",
    "    result = accuracy_score(y_test, forest.predict(x_test))\n",
    "    results.append(result) \n",
    "    print(n, ':', result)"
   ]
  },
  {
   "cell_type": "code",
   "execution_count": 57,
   "metadata": {},
   "outputs": [
    {
     "name": "stdout",
     "output_type": "stream",
     "text": [
      "{'max_features': ['auto', None, 'log2'], 'max_depth': [10, 20, 30, 40, 50, 60, 70, 80, 90, None], 'min_samples_leaf': [1, 2, 4]}\n"
     ]
    }
   ],
   "source": [
    "max_features = ['auto', None, 'log2']\n",
    "# Maximum number of levels in tree\n",
    "max_depth = [10, 20, 30, 40, 50, 60, 70, 80, 90, None]\n",
    "# Minimum number of samples required at each leaf node\n",
    "min_samples_leaf = [1, 2, 4]\n",
    "# Method of selecting samples for training each tree\n",
    "random_grid = {'max_features': max_features,\n",
    "               'max_depth': max_depth,\n",
    "               'min_samples_leaf': min_samples_leaf}\n",
    "print(random_grid)"
   ]
  },
  {
   "cell_type": "code",
   "execution_count": 58,
   "metadata": {},
   "outputs": [],
   "source": [
    "rf = RandomForestClassifier(n_estimators=10)\n",
    "rf_random = RandomizedSearchCV(estimator = rf, param_distributions = random_grid, n_iter = 90, cv = 3, random_state=42)"
   ]
  },
  {
   "cell_type": "code",
   "execution_count": 59,
   "metadata": {},
   "outputs": [
    {
     "data": {
      "text/plain": [
       "RandomizedSearchCV(cv=3, estimator=RandomForestClassifier(n_estimators=10),\n",
       "                   n_iter=90,\n",
       "                   param_distributions={'max_depth': [10, 20, 30, 40, 50, 60,\n",
       "                                                      70, 80, 90, None],\n",
       "                                        'max_features': ['auto', None, 'log2'],\n",
       "                                        'min_samples_leaf': [1, 2, 4]},\n",
       "                   random_state=42)"
      ]
     },
     "execution_count": 59,
     "metadata": {},
     "output_type": "execute_result"
    }
   ],
   "source": [
    "rf_random.fit(x_train, y_train)"
   ]
  },
  {
   "cell_type": "code",
   "execution_count": 60,
   "metadata": {},
   "outputs": [
    {
     "data": {
      "text/plain": [
       "{'min_samples_leaf': 4, 'max_features': 'log2', 'max_depth': 60}"
      ]
     },
     "execution_count": 60,
     "metadata": {},
     "output_type": "execute_result"
    }
   ],
   "source": [
    "rf_random.best_params_"
   ]
  },
  {
   "cell_type": "code",
   "execution_count": 61,
   "metadata": {},
   "outputs": [
    {
     "data": {
      "text/plain": [
       "RandomForestClassifier(max_depth=60, min_samples_leaf=4, n_estimators=10)"
      ]
     },
     "execution_count": 61,
     "metadata": {},
     "output_type": "execute_result"
    }
   ],
   "source": [
    "forest = RandomForestClassifier(n_estimators=10, min_samples_leaf=4, max_features=\"auto\", max_depth=60)\n",
    "forest.fit(x_train, y_train)"
   ]
  },
  {
   "cell_type": "code",
   "execution_count": 62,
   "metadata": {},
   "outputs": [
    {
     "name": "stdout",
     "output_type": "stream",
     "text": [
      "[[  0   0   1   3   3   2   0   0   0]\n",
      " [  0   0   3  37   7   0   0   0   0]\n",
      " [  0   0   7  89  43   7   0   0   0]\n",
      " [  0   0  11 104  67   6   0   0   0]\n",
      " [  0   0   7  91  93  21   0   0   0]\n",
      " [  0   0   1  44  83  16   1   0   0]\n",
      " [  0   0   0  15  20   7   1   0   0]\n",
      " [  0   0   1  10   6   0   0   0   0]\n",
      " [  0   0   0   3   0   0   0   0   0]]\n",
      "              precision    recall  f1-score   support\n",
      "\n",
      "           1       0.00      0.00      0.00         9\n",
      "           2       0.00      0.00      0.00        47\n",
      "           3       0.23      0.05      0.08       146\n",
      "           4       0.26      0.55      0.36       188\n",
      "           5       0.29      0.44      0.35       212\n",
      "           6       0.27      0.11      0.16       145\n",
      "           7       0.50      0.02      0.04        43\n",
      "           8       0.00      0.00      0.00        17\n",
      "           9       0.00      0.00      0.00         3\n",
      "\n",
      "    accuracy                           0.27       810\n",
      "   macro avg       0.17      0.13      0.11       810\n",
      "weighted avg       0.25      0.27      0.22       810\n",
      "\n"
     ]
    }
   ],
   "source": [
    "forestPredictions = forest.predict(x_test)\n",
    "print(confusion_matrix(y_test, forestPredictions))\n",
    "print(classification_report(y_test, forestPredictions))"
   ]
  },
  {
   "cell_type": "code",
   "execution_count": 63,
   "metadata": {},
   "outputs": [],
   "source": [
    "#after optimization still can not catch 26% KNN accuracy "
   ]
  },
  {
   "cell_type": "code",
   "execution_count": 64,
   "metadata": {},
   "outputs": [
    {
     "data": {
      "text/plain": [
       "runtime_in_min            0.469001\n",
       "main_language_Albanian    0.000000\n",
       "multi_language_True       0.031039\n",
       "multi_genre_True          0.041163\n",
       "main_language_Arabic      0.000000\n",
       "                            ...   \n",
       "main_genre_ Drama         0.023083\n",
       "main_genre_ Family        0.000000\n",
       "main_genre_ Fantasy       0.006898\n",
       "main_genre_ History       0.000000\n",
       "main_genre_ Horror        0.056395\n",
       "Length: 76, dtype: float64"
      ]
     },
     "execution_count": 64,
     "metadata": {},
     "output_type": "execute_result"
    }
   ],
   "source": [
    "feature_importances = pd.Series(forest.feature_importances_, index=x.columns)\n",
    "feature_importances"
   ]
  },
  {
   "cell_type": "code",
   "execution_count": 65,
   "metadata": {},
   "outputs": [],
   "source": [
    "# movie run time is the most  important feature to predict review rating "
   ]
  },
  {
   "cell_type": "code",
   "execution_count": null,
   "metadata": {},
   "outputs": [],
   "source": []
  }
 ],
 "metadata": {
  "kernelspec": {
   "display_name": "Python 3",
   "language": "python",
   "name": "python3"
  },
  "language_info": {
   "codemirror_mode": {
    "name": "ipython",
    "version": 3
   },
   "file_extension": ".py",
   "mimetype": "text/x-python",
   "name": "python",
   "nbconvert_exporter": "python",
   "pygments_lexer": "ipython3",
   "version": "3.7.6"
  }
 },
 "nbformat": 4,
 "nbformat_minor": 4
}
